{
 "cells": [
  {
   "cell_type": "code",
   "execution_count": 10,
   "metadata": {},
   "outputs": [],
   "source": [
    "import numpy as np\n",
    "import pandas as pd\n"
   ]
  },
  {
   "cell_type": "code",
   "execution_count": 11,
   "metadata": {},
   "outputs": [],
   "source": [
    "dt_guru = \"../dataset/dg.xlsx\"\n",
    "dt_sekolah = \"../dataset/ds.xlsx\"\n",
    "\n",
    "df_guru = pd.read_excel(dt_guru)\n",
    "df_sekolah = pd.read_excel(dt_sekolah)"
   ]
  },
  {
   "cell_type": "code",
   "execution_count": 12,
   "metadata": {},
   "outputs": [
    {
     "data": {
      "text/plain": [
       "(   Id Guru            Nama Guru Jenis Kelamin      LatG       LongG\n",
       " 0        3       Siti Juwariyah             P -7.608048  110.243011\n",
       " 1       15         ENI ZARYANTI             P -7.557934  110.244500\n",
       " 2       21     Wahyu Rakhmawati             P -7.745043  109.396167\n",
       " 3       22  Purwoko Budisantoso             L -7.824374  110.262371\n",
       " 4       30            Sabariyah             P -7.417245  110.184932,\n",
       "    id                     nama  rombel    lats     longs\n",
       " 0  45    SD NEGERI NGARGOGONDO       6 -7.6263  110.2094\n",
       " 1  48  SD NEGERI RINGINPUTIH 3       6 -7.5994  110.1963\n",
       " 2  51    SD NEGERI TANJUNGSARI       6 -7.6171  110.1974\n",
       " 3  56       SD NEGERI BENINGAN       6 -7.5154  110.2900\n",
       " 4  67       SD NEGERI PODOSOKO       6 -7.5183  110.2568)"
      ]
     },
     "execution_count": 12,
     "metadata": {},
     "output_type": "execute_result"
    }
   ],
   "source": [
    "df_guru.head(), df_sekolah.head()"
   ]
  },
  {
   "cell_type": "code",
   "execution_count": 13,
   "metadata": {},
   "outputs": [],
   "source": [
    "# Function to calculate the Haversine distance\n",
    "def haversine(lat1, lon1, lat2, lon2):\n",
    "    R = 6371  # Radius of the Earth in kilometers\n",
    "    dLat = np.radians(lat2 - lat1)\n",
    "    dLon = np.radians(lon2 - lon1)\n",
    "    a = np.sin(dLat / 2) ** 2 + np.cos(np.radians(lat1)) * np.cos(np.radians(lat2)) * np.sin(dLon / 2) ** 2\n",
    "    c = 2 * np.arctan2(np.sqrt(a), np.sqrt(1 - a))\n",
    "    return R * c"
   ]
  },
  {
   "cell_type": "code",
   "execution_count": 22,
   "metadata": {},
   "outputs": [
    {
     "data": {
      "text/plain": [
       "array([[ 4.223913  ,  5.23737959,  5.12677839, ..., 25.89712243,\n",
       "        24.49444505, 25.4298384 ],\n",
       "       [ 8.52975574,  7.03457867,  8.3805535 , ..., 21.27132056,\n",
       "        19.45332655, 20.65049773],\n",
       "       [90.58253111, 89.64917021, 89.43247584, ..., 89.4036346 ,\n",
       "        92.90793949, 90.64365558],\n",
       "       ...,\n",
       "       [26.58607739, 26.29232587, 27.14557325, ..., 32.14150471,\n",
       "        28.63547684, 30.94990047],\n",
       "       [ 4.9060296 ,  1.5868795 ,  3.51277553, ..., 21.36518663,\n",
       "        20.69286765, 21.13604092],\n",
       "       [20.45036179, 17.69272763, 18.7843947 , ..., 16.01556759,\n",
       "        18.4278636 , 16.85588508]])"
      ]
     },
     "execution_count": 22,
     "metadata": {},
     "output_type": "execute_result"
    }
   ],
   "source": [
    "# Get the coordinates of gurus and schools\n",
    "coords_guru = df_guru[['LatG', 'LongG']].to_numpy()\n",
    "coords_sekolah = df_sekolah[['lats', 'longs']].to_numpy()\n",
    "\n",
    "# Calculate the distance matrix\n",
    "distance_matrix = np.zeros((len(coords_guru), len(coords_sekolah)))\n",
    "\n",
    "for i, (lat_g, lon_g) in enumerate(coords_guru):\n",
    "    for j, (lat_s, lon_s) in enumerate(coords_sekolah):\n",
    "        distance_matrix[i, j] = haversine(lat_g, lon_g, lat_s, lon_s)\n",
    "        \n",
    "distance_matrix"
   ]
  },
  {
   "cell_type": "code",
   "execution_count": 15,
   "metadata": {},
   "outputs": [],
   "source": [
    "class AntColonyAssignment:\n",
    "    def __init__(self, distances, n_ants, n_iterations, decay, alpha=1, beta=2):\n",
    "        self.distances = distances\n",
    "        self.pheromone = np.ones(self.distances.shape) / len(distances)\n",
    "        self.all_gurus = range(distances.shape[0])\n",
    "        self.all_schools = range(distances.shape[1])\n",
    "        self.n_ants = n_ants\n",
    "        self.n_iterations = n_iterations\n",
    "        self.decay = decay\n",
    "        self.alpha = alpha\n",
    "        self.beta = beta\n",
    "\n",
    "    def run(self):\n",
    "        shortest_path = None\n",
    "        best_distance = np.inf\n",
    "        for _ in range(self.n_iterations):\n",
    "            all_paths = self.gen_all_paths()\n",
    "            self.spread_pheromone(all_paths)\n",
    "            min_path = min(all_paths, key=lambda x: x[1])\n",
    "            if min_path[1] < best_distance:\n",
    "                shortest_path = min_path\n",
    "                best_distance = min_path[1]\n",
    "            self.pheromone *= self.decay\n",
    "        return shortest_path\n",
    "\n",
    "    def spread_pheromone(self, all_paths):\n",
    "        sorted_paths = sorted(all_paths, key=lambda x: x[1])\n",
    "        for path, dist in sorted_paths[:self.n_ants]:\n",
    "            for guru, school in path:\n",
    "                self.pheromone[guru, school] += 1.0 / dist\n",
    "\n",
    "    def gen_path_dist(self, path):\n",
    "        total_dist = 0\n",
    "        for guru, school in path:\n",
    "            total_dist += self.distances[guru, school]\n",
    "        return total_dist\n",
    "\n",
    "    def gen_all_paths(self):\n",
    "        all_paths = []\n",
    "        for _ in range(self.n_ants):\n",
    "            path = self.gen_path()\n",
    "            all_paths.append((path, self.gen_path_dist(path)))\n",
    "        return all_paths\n",
    "\n",
    "    def gen_path(self):\n",
    "        path = []\n",
    "        available_schools = list(self.all_schools)\n",
    "        for guru in self.all_gurus:\n",
    "            if available_schools:\n",
    "                move = self.pick_move(guru, available_schools)\n",
    "                path.append((guru, move))\n",
    "                available_schools.remove(move)\n",
    "            else:\n",
    "                break\n",
    "        return path\n",
    "\n",
    "    def pick_move(self, guru, available_schools):\n",
    "        pheromone = self.pheromone[guru, available_schools]\n",
    "        distances = self.distances[guru, available_schools]\n",
    "        row = pheromone ** self.alpha * ((1.0 / distances) ** self.beta)\n",
    "        norm_row = row / row.sum()\n",
    "        move = np.random.choice(available_schools, p=norm_row)\n",
    "        return move\n"
   ]
  },
  {
   "cell_type": "code",
   "execution_count": 16,
   "metadata": {},
   "outputs": [
    {
     "name": "stdout",
     "output_type": "stream",
     "text": [
      "Penempatan guru di sekolah dengan jarak total minimal: [(0, 35), (1, 33), (2, 21), (3, 47), (4, 104), (5, 16), (6, 45), (7, 51), (8, 87), (9, 68), (10, 48), (11, 19), (12, 52), (13, 0), (14, 2), (15, 50), (16, 24), (17, 53), (18, 66), (19, 49), (20, 73), (21, 37), (22, 36), (23, 30), (24, 28), (25, 84), (26, 105), (27, 89), (28, 99), (29, 5), (30, 82), (31, 79), (32, 83), (33, 80), (34, 77), (35, 6), (36, 67), (37, 65), (38, 90), (39, 88), (40, 1), (41, 91), (42, 94), (43, 63), (44, 58), (45, 95), (46, 10), (47, 23), (48, 14), (49, 27), (50, 46), (51, 32), (52, 93), (53, 8), (54, 4), (55, 76), (56, 78), (57, 31), (58, 72), (59, 69), (60, 70), (61, 74), (62, 71), (63, 15), (64, 3), (65, 96), (66, 92), (67, 64), (68, 59), (69, 54), (70, 61), (71, 56), (72, 102), (73, 18), (74, 100), (75, 97), (76, 101), (77, 25), (78, 85), (79, 9), (80, 57), (81, 62), (82, 60), (83, 103), (84, 42), (85, 38), (86, 13), (87, 86), (88, 41), (89, 40), (90, 44), (91, 12), (92, 7), (93, 81), (94, 39), (95, 55), (96, 17), (97, 43), (98, 11), (99, 98), (100, 26), (101, 34), (102, 29), (103, 20), (104, 75), (105, 22)]\n",
      "Jarak total: 1045.6568828838788\n"
     ]
    }
   ],
   "source": [
    "# Inisialisasi parameter ACO\n",
    "n_ants = 10\n",
    "n_iterations = 500\n",
    "decay = 0.95\n",
    "alpha = 1\n",
    "beta = 2\n",
    "\n",
    "ant_colony = AntColonyAssignment(distance_matrix, n_ants, n_iterations, decay, alpha, beta)\n",
    "shortest_path = ant_colony.run()\n",
    "\n",
    "print(f\"Penempatan guru di sekolah dengan jarak total minimal: {shortest_path[0]}\")\n",
    "print(f\"Jarak total: {shortest_path[1]}\")"
   ]
  }
 ],
 "metadata": {
  "kernelspec": {
   "display_name": "Python 3",
   "language": "python",
   "name": "python3"
  },
  "language_info": {
   "codemirror_mode": {
    "name": "ipython",
    "version": 3
   },
   "file_extension": ".py",
   "mimetype": "text/x-python",
   "name": "python",
   "nbconvert_exporter": "python",
   "pygments_lexer": "ipython3",
   "version": "3.11.8"
  }
 },
 "nbformat": 4,
 "nbformat_minor": 2
}
